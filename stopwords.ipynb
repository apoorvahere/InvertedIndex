{
  "nbformat": 4,
  "nbformat_minor": 0,
  "metadata": {
    "colab": {
      "name": "Untitled3.ipynb",
      "provenance": [],
      "collapsed_sections": []
    },
    "kernelspec": {
      "name": "python3",
      "display_name": "Python 3"
    },
    "language_info": {
      "name": "python"
    }
  },
  "cells": [
    {
      "cell_type": "code",
      "metadata": {
        "id": "7_iFYrdxQezR"
      },
      "source": [
        "import nltk \n",
        "import string \n",
        "from nltk.corpus import stopwords \n",
        " \n",
        "with open('inputtext.txt','r') as inFile, open('outputtext.txt','w') as outFile: \n",
        "\tfor line in inFile.readlines(): \n",
        "\t    print(\" \".join([word for word in line.lower().translate(str.maketrans('', '', string.punctuation)).split()  \n",
        "        \tif len(word) >=4 and word not in stopwords.words('english')]), file=outFile) \n"
      ],
      "execution_count": 8,
      "outputs": []
    },
    {
      "cell_type": "code",
      "metadata": {
        "id": "luOdO5kXQ6tr"
      },
      "source": [
        ""
      ],
      "execution_count": null,
      "outputs": []
    },
    {
      "cell_type": "code",
      "metadata": {
        "colab": {
          "base_uri": "https://localhost:8080/"
        },
        "id": "WuytkDV_5Wgf",
        "outputId": "df584212-1495-4d34-a621-bacafe215755"
      },
      "source": [
        "import nltk\n",
        "nltk.download('stopwords')"
      ],
      "execution_count": 7,
      "outputs": [
        {
          "output_type": "stream",
          "text": [
            "[nltk_data] Downloading package stopwords to /root/nltk_data...\n",
            "[nltk_data]   Package stopwords is already up-to-date!\n"
          ],
          "name": "stdout"
        },
        {
          "output_type": "execute_result",
          "data": {
            "text/plain": [
              "True"
            ]
          },
          "metadata": {},
          "execution_count": 7
        }
      ]
    }
  ]
}